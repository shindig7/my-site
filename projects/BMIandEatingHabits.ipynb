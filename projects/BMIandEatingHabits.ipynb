{
  "cells": [
    {
      "metadata": {
        "_cell_guid": "b5f08955-3eda-4289-8ab6-8b9aacf55f34",
        "_uuid": "e74eb3be75878895ab586025eb8cfcb8545d1528"
      },
      "cell_type": "markdown",
      "source": "# A Study of Eating Habits and Obesity\nI've taken a recent interest in nutrition and the study of obesity, so in order to practice my data science skills and learn more about both subjects, I'll be doing some basic exploratory analysis of the BLS American Time Use Survey's Health Module Data.\n### A Short Note on BMI\nBody Mass Index (BMI) scores are often considered to be an inaccurate way to measure the health and body composition of individuals. Scores can often end up in the overweight or obese range for those with large amounts of muscle. That being said, these individuals are relatively rare in American society, and BMI was always meant as a score for measuring populations, not individuals. As I am studying over 10,000 individuals, I feel justified in using BMI as a heuristic for health."
    },
    {
      "metadata": {
        "_cell_guid": "1beb17bd-ecfa-44fe-8c79-1f83a7d3a4e8",
        "_uuid": "a1282c8ec9056f2984f3bd2553ccd4e5cc2ced98",
        "trusted": false,
        "collapsed": true
      },
      "cell_type": "code",
      "source": "# Data Processing and Manipulation\nimport numpy as np\nimport pandas as pd\n# Data Visualization\nimport matplotlib.pyplot as plt\nimport matplotlib.style as style\nimport seaborn as sns\n% matplotlib inline\n# Statistics\nimport scipy.stats as stat\nfrom scipy.optimize import curve_fit\nfrom scipy.stats.stats import pearsonr\nfrom scipy.stats import chisquare\nfrom math import sqrt\n\nfull_df = pd.read_csv('../input/ehresp_2014.csv')\nfull_df['CorpIndex'] = full_df['euhgt'] / (full_df['euwgt'] ** (1. / 3.) )\nfull_df['sqrtbmi'] = np.sqrt(full_df.loc[:,'erbmi'])\n\nfull_df.describe()",
      "execution_count": null,
      "outputs": []
    },
    {
      "metadata": {
        "_cell_guid": "46fb4c7e-6eb7-4ae5-ba12-e9531595825b",
        "_uuid": "20b8ca8434a2ccb3fba410659d5997d39337438a"
      },
      "cell_type": "markdown",
      "source": "Just starting with the absolute basics here. According to the data dictionary, anyone with a bodyweight (euwgt) of -5 is pregnant. As I know less about the pregnancy than I do about nutrition and I'm looking for general insights, I'll be removing them from the dataset. I also removed anyone with a height (euhgt) less than 56 inches or a bodyweight (euwgt) less than 98 pounds, the bottom-coded values."
    },
    {
      "metadata": {
        "_cell_guid": "7c00033f-5680-4dce-910e-6eb614bd9b87",
        "_uuid": "fd7790bd6354d67b5792fb19cf8df9bc9794cbc2",
        "trusted": false,
        "collapsed": true
      },
      "cell_type": "code",
      "source": "full_df = full_df[np.logical_and(full_df['euwgt'] >= 98, full_df['euhgt'] >= 56)]  #euwgt is bottom-coded to 98 and euhgt is bottom-coded to 56\nfull_df.describe()",
      "execution_count": null,
      "outputs": []
    },
    {
      "metadata": {
        "_cell_guid": "6f65b4af-aa3b-4700-9754-c6c90aa7087a",
        "_uuid": "bdf129175c78e7c3c70a29b7aee8757503ad29ca"
      },
      "cell_type": "markdown",
      "source": "## The Basics\n"
    },
    {
      "metadata": {
        "_cell_guid": "8c982f3f-77d0-4f4c-947e-16759c33f742",
        "_uuid": "0e822ff4e5c2eeb0440226efacba7838628f6646",
        "trusted": false,
        "collapsed": true
      },
      "cell_type": "code",
      "source": "bmi = full_df['erbmi']\n\ntotal = float(full_df.shape[0])\n\nunderwght = full_df[full_df['erbmi'] < 18.5]\ntotal_underwght = float(underwght.shape[0])\n\nnormal = full_df[np.logical_and(full_df['erbmi'] >= 18.5, full_df['erbmi'] < 25)]\ntotal_normal = float(normal.shape[0])\n\noverwgt = full_df[np.logical_and(full_df['erbmi'] >= 25, full_df['erbmi'] < 30)]\ntotal_overwgt = float(overwgt.shape[0])\n\nobese1 = full_df[np.logical_and(full_df['erbmi'] >= 30, full_df['erbmi'] < 35)]\ntotal_obese1 = float(obese1.shape[0])\n\nobese2 = full_df[np.logical_and(full_df['erbmi'] >= 35, full_df['erbmi'] < 40)]\ntotal_obese2 = float(obese2.shape[0])\n\nobese3 = full_df[full_df['erbmi'] > 40]\ntotal_obese3 = float(obese3.shape[0])\n\ntotal_non_normal = float(full_df[np.logical_or(full_df['erbmi'] >= 25, full_df['erbmi'] < 18.5)].shape[0])\n\nprint('Total Subjects: {}'.format(total))\nprint('Total Underweight: {} or {}%'.format(total_underwght, round(total_underwght*100/total, 2)))\nprint('Total Normal: {} or {}%'.format(total_normal, round(total_normal*100/total, 2)))\nprint('Total Overweight: {} or {}%'.format(total_overwgt, round(total_overwgt*100/total,2)))\nprint('Total Class 1 Obese: {} or {}%'.format(total_obese1, round(total_obese1*100/total, 2)))\nprint('Total Class 2 Obese: {} or {}%'.format(total_obese2, round(total_obese2*100/total, 2)))\nprint('Total Class 3 Obese: {} or {}%'.format(total_obese3, round(total_obese3*100/total, 2)))\nprint()\nprint('Total Subjects Outside Normal: {} or {}%'.format(total_non_normal, round(total_non_normal*100/total, 2)))\n\nstyle.use('default')\nfig=plt.figure(figsize=(10,7), dpi= 90, facecolor='w', edgecolor='b')\n_ = plt.bar(np.arange(6), [total_underwght, total_normal, total_overwgt, total_obese1, total_obese2,\n                       total_obese3], tick_label=['Underweight', 'Normal', 'Overweight',\n                                                  'Class 1 Obese', 'Class 2 Obese', 'Class 3 Obese'])\nplt.show()\n\n",
      "execution_count": null,
      "outputs": []
    },
    {
      "metadata": {
        "_cell_guid": "b6fa6ff5-a967-40dc-a855-6f565a2edbb1",
        "_uuid": "744a9ae15f0c9c7df3191f048ee32052f1116bc2"
      },
      "cell_type": "markdown",
      "source": "As you can see, an large majority of Americans fall outside of the normal BMI range, and the number (66.15 %) is similar to the 2/3 number often referenced in media on the subject."
    },
    {
      "metadata": {
        "_cell_guid": "2a5273d4-3051-4831-83cc-d5c824a02641",
        "_uuid": "f898525153ddfe326480f5516eab3db62c039de3",
        "trusted": false,
        "collapsed": true
      },
      "cell_type": "code",
      "source": "fig=plt.figure(figsize=(10,7), dpi= 90, facecolor='w', edgecolor='b')\nplt.hist(bmi, bins=61) # bin size was .97, so I just use 1; 61 is max - min bmi\nplt.show()\n\ntest_stat, p_val = chisquare(bmi)\nprint('P-value is {} at test statistic {}'.format(round(p_val, 4), test_stat))\n_, _, mean, var, skew, kurt = stat.describe(bmi)\nprint('Mean: {}'.format(round(mean, 2)))\nprint('Variance: {}'.format(round(var, 2)))\nprint('Standard Dev: {}'.format(round(sqrt(var), 2)))\nprint('Skewness: {}'.format(round(skew, 2)))\nprint('Kurtosis: {}'.format(round(kurt, 2)))",
      "execution_count": null,
      "outputs": []
    },
    {
      "metadata": {
        "_cell_guid": "37465b53-a8ed-43ee-9b30-e14200bbea0c",
        "_uuid": "8802536e022d1f4b4774ebb88ce4afc1f4979259"
      },
      "cell_type": "markdown",
      "source": "A p-value of 0.0 from the Chi squared test means that the data is normally distributed. The kurtosis of about 3 indicates this as well. There is a relatively high amount of skewness to the right, but this is to be expected as higher BMIs are possible and more likely than lower BMIs.\n\nWith this mean and standard deviation we can conclude that:\n* About 68% of people have a BMI between 21.6 and 33.94\n* About 95% of people have a BMI between 15.43 and 40.11\n\nI'd also like to point out that the mean BMI is 27.77, which is firmly in the overweight category."
    },
    {
      "metadata": {
        "_cell_guid": "2ed97bb8-b13a-44f3-b5fc-c3e85c5eebe6",
        "_uuid": "da330260c09802789c51396917f21947d5bb89ae"
      },
      "cell_type": "markdown",
      "source": "## Exercise and BMI\nFirst up is a study of the relationship between exercise and the frequency of exercise and BMI. We're often told to exercise in order to decrease our weight"
    },
    {
      "metadata": {
        "_cell_guid": "9c7fdbeb-003c-4c57-9d27-916380258f3d",
        "_uuid": "66f8a395d9387d92d2740bd4ab59ef2c9ed9392a",
        "trusted": false,
        "collapsed": true
      },
      "cell_type": "code",
      "source": "exercise_df = full_df[full_df['euexfreq'] >= 0]  # Dataframe of only those who exercised at have an exercise frequency\n\nexercise_freq = exercise_df['euexfreq']  # All exercise frequencies\nexercising_bmi = exercise_df['erbmi']  # All BMI score\n\nfig=plt.figure(figsize=(10,7), dpi= 100, facecolor='w', edgecolor='b')  # formatting\nplt.scatter(exercise_freq, exercising_bmi, marker='.')\nplt.title('Exercise Frequency vs. BMI')\nplt.ylabel('Body Mass Index')\nplt.xlabel('Exercise Frequency (# of Times in Last Week)')\nplt.show()",
      "execution_count": null,
      "outputs": []
    },
    {
      "metadata": {
        "_cell_guid": "0a5f1c44-053c-40a2-afc4-bc68fd53aeb6",
        "_uuid": "5f00887dbdd352e47d11337bd0e1080d3cc54411",
        "trusted": false,
        "collapsed": true
      },
      "cell_type": "code",
      "source": "r = pearsonr(exercising_bmi, exercise_freq)\nprint(r)",
      "execution_count": null,
      "outputs": []
    },
    {
      "metadata": {
        "_cell_guid": "649f98bd-70f0-46ac-9d59-1c96ff9c765e",
        "_uuid": "47be723060c479010723a3e741debfe0d03faf0e"
      },
      "cell_type": "markdown",
      "source": "So clearly there is no linear correlation between exercise frequency and BMI, but could there be other correlations?"
    },
    {
      "metadata": {
        "scrolled": true,
        "_cell_guid": "852e024b-05ca-4542-a9ad-b2288b52ea51",
        "_uuid": "699e07f1223c200cf6085b1b97d574b58a25aa21",
        "trusted": false,
        "collapsed": true
      },
      "cell_type": "code",
      "source": "freq_mean_dict = {}\nfor value in np.ndenumerate(exercise_freq):\n    if value[1] in freq_mean_dict.keys():\n        pass\n    else:\n        freq_mean_dict[value[1]] = exercise_df[exercise_df['euexfreq'] == value[1]]['erbmi'].mean()\n\nX = np.array(list(freq_mean_dict.keys()))\ny = np.array(list(freq_mean_dict.values()))\n\n# Graph size, style, and labels\nfig=plt.figure(figsize=(13,7), dpi= 100, facecolor='w', edgecolor='b')\nstyle.use('fivethirtyeight')\ndata, = plt.plot(X,y, 'o', label='Avg BMI')\nplt.xticks(np.arange(min(X), max(X)+1, 1.0))\nplt.title('Exercise Frequency vs. Avg. BMI')\nplt.ylabel('Average Body Mass Index')\nplt.xlabel('Exercise Frequency (# of Times in Last Week)')\n\n# Cubic function for curve_fit\ndef cubic_fit(t, a, b, c, d):\n    #return a*(t**2) + b*t + c\n    return a * (t**3) + b * (t**2) + c*t + d\n    #return a*(t**4) + b*(t**3) + c*(t**2) + d*t + e\n    #return  a*(t**5) + b*(t**4) + c*(t**3) + d*(t**2) + e*t + f\n\n# Linear function for curve_fit\ndef linear_fit(t, m, b):\n    return m*t + b\n\n# Fit the cubic equation to the data using curve_fit and plotting it as cube_fit\ncpopt, cpcov = curve_fit(cubic_fit, X, y)\ncube_fit, = plt.plot(X, cubic_fit(X, *cpopt), 'o')\n\nlpopt, lpcov = curve_fit(linear_fit, X, y)\nlin_fit, = plt.plot(X, linear_fit(X, *lpopt), 'o')\n\nplt.legend((data, lin_fit, cube_fit), ('BMI', 'Linear Fit', 'Cubic Fit'), loc=2, fontsize='large')\n\nplt.show()\n\nprint(cpopt)\n#print(lpopt)\npearson_coeff = pearsonr(X,y)\nprint('Pearson Correlation Coefficient: {}'.format(round(pearson_coeff[0], 4)))",
      "execution_count": null,
      "outputs": []
    },
    {
      "metadata": {
        "_cell_guid": "06c2db0d-ab34-4e98-8fe4-01888d79114e",
        "collapsed": true,
        "_uuid": "a9e7d7fe09d1ced66d22135dd5cc875f7c1ec802"
      },
      "cell_type": "markdown",
      "source": "Instead of all the data, I tried graphing the mean BMI of each level of exercise frequency. I then tried fitting two lines, one cubic and one linear, to the data. The linear approximation does not seem to be very accurate and seems to show a positive correlation between exercise frequency and BMI score. This is confirmed by the Pearson correlation coefficient of 0.48, which shows a mild positive correlation.  The cubic approximation seems to be a little more accurate, especially in the lower range of frequencies, but the ramifications of using this approximation is a bit disheartening, as BMI only falls into the healthy range when exercising between 7 and 14 times per week, or 1-2 times per day. Anything more or less would result in a relatively steep increase in BMI score.\n   \nI considered removing the three points in the upper right of the graph, as they were clearly skewing the fit, however, the BMI scores recorded in these points are entirely possible and within 2 standard deviations of the mean. One would only need to be 280 lbs at a height of 5'8\" to have a BMI of 42.6.\n\nMore unusual to me is the level of exercise reported. I am skeptical of those who claimed that they exercised 4-5 times per day, every day, in the last week. \n\nIf any conclusion is to be drawn from the data, and specifically from the cubic fit line, it's that exercise is only beneficial to a certain point."
    },
    {
      "metadata": {
        "_cell_guid": "342266ee-57da-42e2-ab83-f3140b953b50",
        "_uuid": "d4202a956480ecc0b2405d6b63f21019fda44d2f",
        "trusted": false,
        "collapsed": true
      },
      "cell_type": "code",
      "source": "style.use('fivethirtyeight')\nfig=plt.figure(figsize=(10,7), dpi= 100, facecolor='w', edgecolor='b')\nfreq_dict = {value[1]: list(exercise_df[exercise_df['euexfreq'] == value[1]]['sqrtbmi']) for value in np.ndenumerate(exercise_freq)}\n#_ = plt.boxplot(x='euexfreq', y='erbmi', data=exercise_df)\ndata = [freq_dict[k] for k in sorted(freq_dict.keys())]\n_ = plt.boxplot(data)\nplt.yticks(np.arange(3.5, 9, .5))\nplt.ylabel('Square Root of BMI Score')\nplt.xlabel('Exercise Frequency (Times Per Week)')\nplt.show()",
      "execution_count": null,
      "outputs": []
    },
    {
      "metadata": {
        "_cell_guid": "cab0e12d-16fe-4bbd-abe2-9e463e146499",
        "_uuid": "4d209f2b8259cf6a729de1a17f4016336cd7c2d1"
      },
      "cell_type": "markdown",
      "source": "To make sure I wasn't missing anything by simply looking at the mean, I graphed the box plots of exercise frequency vs the square root of BMI\\*.  There is tremendous variability in the BMI scores with no noticeable trendline in either direction. \n\n* I use square root of BMI for the box and violin plots to minimize the number of outliers represented in the plots."
    },
    {
      "metadata": {
        "_cell_guid": "7f2e3c63-50dc-4296-891a-683bb3d214df",
        "_uuid": "98ac2f7acb96528ee5224397912fe3051f469536",
        "trusted": false,
        "collapsed": true
      },
      "cell_type": "code",
      "source": "#exercise_bmi = list(np.sqrt(full_df[full_df['euexercise'] == 1]['erbmi']))\n#print(type(exercise_bmi[0]))\n#no_exercise_bmi = list(np.sqrt(full_df[full_df['euexercise'] == 2]['erbmi']))\nexercise = (full_df[np.logical_and(full_df['euexercise'] > 0, full_df['erbmi'] > 0)])\nexercise['sqrtbmi'] = np.sqrt(exercise.loc[:,'erbmi'])\n\nlabels = [1, 2]\nfig=plt.figure(figsize=(5,10), dpi= 90, facecolor='w', edgecolor='b')\n\n_ = sns.violinplot(x='euexercise', y='sqrtbmi', data=exercise, zorder=1)\nplt.axhline(y=4.3, linewidth=2, color='black', zorder=0)\nplt.axhline(y=5, linewidth=2, color='black', zorder=0)\nplt.axhline(y=5.48, linewidth=2, color='black', zorder=0)\nplt.axhline(y=5.9, linewidth=2, color='black', zorder=0)\nplt.axhline(y=6.32, linewidth=2, color='black', zorder=0)\nplt.xlabel('Exercised Last Week?')\nplt.ylabel('Square Root BMI')\nplt.xticks([0,1], ['Yes', 'No'])\nplt.yticks(np.arange(3, 9.5, .5))\n#plt.yticks(np.arange(3, 9, 0.25))\nplt.show()",
      "execution_count": null,
      "outputs": []
    },
    {
      "metadata": {
        "_cell_guid": "1cf2ded8-bbbf-4fd5-ad1a-b1e279acf1f6",
        "collapsed": true,
        "_uuid": "04779d9aea47222b547f8512f6cf175a5aaeeae9"
      },
      "cell_type": "markdown",
      "source": "Finally, I plotted whether or not participants said they exercised in the last week *at all* against their BMI score. I used a violin plot instead of a box plot as it better shows where the majority of the score lay on the spectrum. For better visual reference, I added lines to represent the different categories defined by BMI; below the first line is considered underweight, between that and the next line is considered normal, etc. As we can see, the majority of people in both categories lie above normal range\n\nAs you can see, "
    }
  ],
  "metadata": {
    "kernelspec": {
      "display_name": "Python 3",
      "language": "python",
      "name": "python3"
    },
    "language_info": {
      "version": "3.6.4",
      "nbconvert_exporter": "python",
      "codemirror_mode": {
        "name": "ipython",
        "version": 3
      },
      "file_extension": ".py",
      "name": "python",
      "mimetype": "text/x-python",
      "pygments_lexer": "ipython3"
    }
  },
  "nbformat": 4,
  "nbformat_minor": 1
}